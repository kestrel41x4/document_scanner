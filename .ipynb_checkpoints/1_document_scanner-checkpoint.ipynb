{
 "cells": [
  {
   "cell_type": "code",
   "execution_count": null,
   "id": "90f38346-02bd-48b4-9d5a-d9db38496b4e",
   "metadata": {},
   "outputs": [],
   "source": [
    "import numpy as np\n",
    "import cv2\n",
    "import matplotlib.pyplot as plt\n",
    "import imutils\n"
   ]
  },
  {
   "cell_type": "code",
   "execution_count": null,
   "id": "8a8a431c-743e-4271-83df-306ba3ea073e",
   "metadata": {},
   "outputs": [],
   "source": [
    "img_orig = cv2.imread('./images/03.jpg')"
   ]
  },
  {
   "cell_type": "code",
   "execution_count": null,
   "id": "b723d0b0-d8f7-495a-9984-b83b1672f049",
   "metadata": {},
   "outputs": [],
   "source": [
    "cv2.namedWindow('original',cv2.WINDOW_NORMAL)\n",
    "cv2.imshow('original',img_orig)\n",
    "cv2.waitKey()\n",
    "cv2.destroyAllWindows()\n"
   ]
  },
  {
   "cell_type": "code",
   "execution_count": null,
   "id": "45a0eec9-9c30-4b21-8b4e-8f6e6cc907c3",
   "metadata": {},
   "outputs": [],
   "source": [
    "def resizer(image,width=500):\n",
    "    # get widht and height\n",
    "    h,w,c = image.shape\n",
    "    \n",
    "    height = int((h/w)* width )\n",
    "    size = (width,height)\n",
    "    image = cv2.resize(image,(width,height))\n",
    "    return image, size"
   ]
  },
  {
   "cell_type": "code",
   "execution_count": null,
   "id": "6c4772ee-47a3-4287-bb38-85ac5cd952a1",
   "metadata": {},
   "outputs": [],
   "source": [
    "img_re,size = resizer(img_orig)\n",
    "print(size)\n",
    "cv2.imshow('Resize',img_re)\n",
    "cv2.waitKey()\n",
    "cv2.destroyAllWindows()"
   ]
  },
  {
   "cell_type": "code",
   "execution_count": null,
   "id": "6c18d0b9-9d8e-4791-a2c6-4f6cd6645af7",
   "metadata": {},
   "outputs": [],
   "source": [
    "detail = cv2.detailEnhance(img_re,sigma_s = 20, sigma_r = 0.15)\n",
    "gray = cv2.cvtColor(detail,cv2.COLOR_BGR2GRAY) # GRAYSCALE IMAGE\n",
    "blur = cv2.GaussianBlur(gray,(5,5),0)\n",
    "# edge detect\n",
    "edge_image = cv2.Canny(blur,75,200)\n",
    "# morphological transform\n",
    "kernel = np.ones((5,5),np.uint8)\n",
    "dilate = cv2.dilate(edge_image,kernel,iterations=1)\n",
    "\n",
    "closing = cv2.morphologyEx(dilate,cv2.MORPH_CLOSE,kernel)\n",
    "\n",
    "\n",
    "cv2.imshow('original',dilate)\n",
    "cv2.imshow('detail',edge_image)\n",
    "cv2.waitKey(0)\n",
    "cv2.destroyAllWindows()"
   ]
  },
  {
   "cell_type": "code",
   "execution_count": null,
   "id": "6e4bec87-879f-4185-9a03-2bfcbbd128b5",
   "metadata": {},
   "outputs": [],
   "source": []
  }
 ],
 "metadata": {
  "kernelspec": {
   "display_name": "Python 3 (ipykernel)",
   "language": "python",
   "name": "python3"
  },
  "language_info": {
   "codemirror_mode": {
    "name": "ipython",
    "version": 3
   },
   "file_extension": ".py",
   "mimetype": "text/x-python",
   "name": "python",
   "nbconvert_exporter": "python",
   "pygments_lexer": "ipython3",
   "version": "3.11.7"
  }
 },
 "nbformat": 4,
 "nbformat_minor": 5
}
